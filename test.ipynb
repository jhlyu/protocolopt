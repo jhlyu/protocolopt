{
 "cells": [
  {
   "cell_type": "code",
   "execution_count": 2,
   "id": "48c93037",
   "metadata": {},
   "outputs": [],
   "source": [
    "import torch\n",
    "import bit_flip\n",
    "import yaml\n",
    "\n",
    "\n",
    "\n",
    "with open(\"config.yaml\", \"r\") as f:\n",
    "    config = yaml.safe_load(f)\n",
    "\n",
    "simulation_params = config[\"simulation_params\"]\n",
    "protocol_params = config[\"protocol_params\"]\n",
    "training_params = config[\"training_params\"]\n",
    "\n",
    "import bit_flip"
   ]
  },
  {
   "cell_type": "code",
   "execution_count": 3,
   "id": "9fac00fe",
   "metadata": {},
   "outputs": [],
   "source": [
    "generator = bit_flip.quartic_simulation(training_params['batch_size'], simulation_params, torch.tensor([5.0,5.0]), torch.tensor([5.0,5.0]), torch.tensor([5.0,5.0]), torch.tensor([10.0,10.0]))"
   ]
  },
  {
   "cell_type": "code",
   "execution_count": null,
   "id": "dfc7987f",
   "metadata": {},
   "outputs": [
    {
     "ename": "TypeError",
     "evalue": "'Tensor' object is not callable",
     "output_type": "error",
     "traceback": [
      "\u001b[0;31m---------------------------------------------------------------------------\u001b[0m",
      "\u001b[0;31mTypeError\u001b[0m                                 Traceback (most recent call last)",
      "Cell \u001b[0;32mIn[4], line 1\u001b[0m\n\u001b[0;32m----> 1\u001b[0m generator\u001b[38;5;241m.\u001b[39mtrajectory_generator(generator\u001b[38;5;241m.\u001b[39mmh_sampler())\n",
      "File \u001b[0;32m~/Documents/protocolopt/bit_flip.py:1357\u001b[0m, in \u001b[0;36mquartic_simulation.trajectory_generator\u001b[0;34m(self, position_sampler)\u001b[0m\n\u001b[1;32m   1355\u001b[0m noise_array \u001b[38;5;241m=\u001b[39m torch\u001b[38;5;241m.\u001b[39mrandn(\u001b[38;5;28mself\u001b[39m\u001b[38;5;241m.\u001b[39mnum_paths, num_steps, device\u001b[38;5;241m=\u001b[39m\u001b[38;5;28mself\u001b[39m\u001b[38;5;241m.\u001b[39mtorch_device) \u001b[38;5;241m*\u001b[39m (noise_sigma \u001b[38;5;241m*\u001b[39m math\u001b[38;5;241m.\u001b[39msqrt(\u001b[38;5;28mself\u001b[39m\u001b[38;5;241m.\u001b[39mparams[\u001b[38;5;124m'\u001b[39m\u001b[38;5;124mdt\u001b[39m\u001b[38;5;124m'\u001b[39m]))\n\u001b[1;32m   1356\u001b[0m phase_array \u001b[38;5;241m=\u001b[39m torch\u001b[38;5;241m.\u001b[39mzeros((\u001b[38;5;28mself\u001b[39m\u001b[38;5;241m.\u001b[39mnum_paths, num_steps \u001b[38;5;241m+\u001b[39m \u001b[38;5;241m1\u001b[39m, \u001b[38;5;241m2\u001b[39m), device\u001b[38;5;241m=\u001b[39m\u001b[38;5;28mself\u001b[39m\u001b[38;5;241m.\u001b[39mtorch_device) \u001b[38;5;66;03m# 2 for position and velocity\u001b[39;00m\n\u001b[0;32m-> 1357\u001b[0m phase_array[:, \u001b[38;5;241m0\u001b[39m, \u001b[38;5;241m0\u001b[39m] \u001b[38;5;241m=\u001b[39m position_sampler() \u001b[38;5;66;03m# initial position\u001b[39;00m\n\u001b[1;32m   1358\u001b[0m phase_array[:, \u001b[38;5;241m0\u001b[39m, \u001b[38;5;241m1\u001b[39m] \u001b[38;5;241m=\u001b[39m \u001b[38;5;28mself\u001b[39m\u001b[38;5;241m.\u001b[39mvelocity_sample_distribution() \u001b[38;5;66;03m# initial velocity\u001b[39;00m\n\u001b[1;32m   1359\u001b[0m \u001b[38;5;28;01mfor\u001b[39;00m i \u001b[38;5;129;01min\u001b[39;00m \u001b[38;5;28mrange\u001b[39m(num_steps):\n\u001b[1;32m   1360\u001b[0m     \u001b[38;5;66;03m# Update position using the Euler-Maruyama method\u001b[39;00m\n\u001b[1;32m   1361\u001b[0m     \u001b[38;5;66;03m# dx = v * dt\u001b[39;00m\n\u001b[1;32m   1362\u001b[0m     \u001b[38;5;66;03m# dv = -gamma * v + ( 4*b*x - 4*a*x^3) * dt + noise\u001b[39;00m\n",
      "\u001b[0;31mTypeError\u001b[0m: 'Tensor' object is not callable"
     ]
    }
   ],
   "source": [
    "generator.trajectory_generator(generator.mh_sampler)"
   ]
  },
  {
   "cell_type": "code",
   "execution_count": null,
   "id": "59f98cd8",
   "metadata": {},
   "outputs": [],
   "source": []
  }
 ],
 "metadata": {
  "kernelspec": {
   "display_name": "base",
   "language": "python",
   "name": "python3"
  },
  "language_info": {
   "codemirror_mode": {
    "name": "ipython",
    "version": 3
   },
   "file_extension": ".py",
   "mimetype": "text/x-python",
   "name": "python",
   "nbconvert_exporter": "python",
   "pygments_lexer": "ipython3",
   "version": "3.11.7"
  }
 },
 "nbformat": 4,
 "nbformat_minor": 5
}
